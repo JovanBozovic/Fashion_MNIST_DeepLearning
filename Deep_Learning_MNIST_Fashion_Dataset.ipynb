{
  "nbformat": 4,
  "nbformat_minor": 0,
  "metadata": {
    "colab": {
      "name": "Projekat3.ipynb",
      "provenance": []
    },
    "kernelspec": {
      "name": "python3",
      "display_name": "Python 3"
    },
    "language_info": {
      "name": "python"
    }
  },
  "cells": [
    {
      "cell_type": "code",
      "execution_count": null,
      "metadata": {
        "id": "ZwZLT_eneYNJ"
      },
      "outputs": [],
      "source": [
        "import torch\n",
        "from torchvision import datasets,transforms\n",
        "import helper\n",
        "\n",
        "transform=transforms.Compose([transforms.ToTensor(),transforms.Normalize((0.5),(0.5))])\n",
        "\n",
        "trainset=datasets.FashionMNIST(\"F_MNIST_data/\",download=True,train=True,transform=transform)\n",
        "trainloader=torch.utils.data.DataLoader(trainset,batch_size=64,shuffle=True)\n",
        "\n",
        "testset=datasets.FashionMNIST(\"F_MNIST_data/\",download=True,train=False,transform=transform)\n",
        "testloader=torch.utils.data.DataLoader(testset,batch_size=64,shuffle=True)"
      ]
    },
    {
      "cell_type": "code",
      "source": [
        "import matplotlib.pyplot as plt\n",
        "images,labels=next(iter(trainloader))\n",
        "plt.imshow(images[0,0,:])\n"
      ],
      "metadata": {
        "colab": {
          "base_uri": "https://localhost:8080/",
          "height": 282
        },
        "id": "CiX1iH4EgERO",
        "outputId": "7ae8f7e0-5fcb-4b1a-aece-eab25e162f7c"
      },
      "execution_count": null,
      "outputs": [
        {
          "output_type": "execute_result",
          "data": {
            "text/plain": [
              "<matplotlib.image.AxesImage at 0x7fb119090310>"
            ]
          },
          "metadata": {},
          "execution_count": 143
        },
        {
          "output_type": "display_data",
          "data": {
            "text/plain": [
              "<Figure size 432x288 with 1 Axes>"
            ],
            "image/png": "[encoded data removed]"
          },
          "metadata": {
            "image/png": {
              "width": 251,
              "height": 248
            },
            "needs_background": "light"
          }
        }
      ]
    },
    {
      "cell_type": "code",
      "source": [
        "labels"
      ],
      "metadata": {
        "colab": {
          "base_uri": "https://localhost:8080/"
        },
        "id": "d2cgfTVHl9cD",
        "outputId": "2d05ae22-a153-43b7-eddb-d01e80b1a84a"
      },
      "execution_count": null,
      "outputs": [
        {
          "output_type": "execute_result",
          "data": {
            "text/plain": [
              "tensor([1, 7, 3, 4, 5, 3, 7, 2, 0, 1, 0, 2, 1, 9, 1, 0, 7, 6, 9, 1, 8, 5, 3, 9,\n",
              "        4, 5, 2, 8, 1, 8, 1, 3, 5, 6, 1, 2, 5, 2, 7, 9, 6, 8, 8, 4, 5, 6, 1, 9,\n",
              "        9, 3, 4, 5, 8, 6, 5, 3, 6, 4, 0, 8, 4, 3, 1, 1])"
            ]
          },
          "metadata": {},
          "execution_count": 144
        }
      ]
    },
    {
      "cell_type": "code",
      "source": [
        "%matplotlib inline\n",
        "%config InlineBackend.figure_format=\"retina\"\n",
        "\n",
        "import numpy as np\n",
        "import time\n",
        "\n",
        "from torch import nn\n",
        "from torch import optim\n",
        "import torch.nn.functional as F"
      ],
      "metadata": {
        "id": "nz8lMja6hYFU"
      },
      "execution_count": null,
      "outputs": []
    },
    {
      "cell_type": "code",
      "source": [
        "class Network(nn.Module):\n",
        "  def __init__(self,input_size,hidden_sizes,output_size=10):\n",
        "    super().__init__()\n",
        "    self.fc1=nn.Linear(input_size,hidden_sizes[0])\n",
        "    self.fc2=nn.Linear(hidden_sizes[0],hidden_sizes[1])\n",
        "    self.fc3=nn.Linear(hidden_sizes[1],hidden_sizes[2])\n",
        "    self.fc4=nn.Linear(hidden_sizes[2],hidden_sizes[3])\n",
        "    self.fc5=nn.Linear(hidden_sizes[3],output_size)\n",
        "  def forward(self,x):\n",
        "    x=self.fc1(x)\n",
        "    x=F.relu(x)\n",
        "    x=self.fc2(x)\n",
        "    x=F.relu(x)\n",
        "    x=self.fc3(x)\n",
        "    x=F.relu(x)\n",
        "    x=self.fc4(x)\n",
        "    x=F.relu(x)\n",
        "    x=self.fc5(x)\n",
        "    x=F.softmax(x,dim=1)\n",
        "    return(x)\n",
        "\n",
        "input_size=784\n",
        "hidden_sizes=np.array([160,140,120,80])\n",
        "output_size=10\n",
        "model=Network(input_size,hidden_sizes,output_size)\n",
        "model"
      ],
      "metadata": {
        "colab": {
          "base_uri": "https://localhost:8080/"
        },
        "id": "N3sE4rWjlwU6",
        "outputId": "210d8276-a381-4b7c-a282-184360ba814d"
      },
      "execution_count": null,
      "outputs": [
        {
          "output_type": "execute_result",
          "data": {
            "text/plain": [
              "Network(\n",
              "  (fc1): Linear(in_features=784, out_features=160, bias=True)\n",
              "  (fc2): Linear(in_features=160, out_features=140, bias=True)\n",
              "  (fc3): Linear(in_features=140, out_features=120, bias=True)\n",
              "  (fc4): Linear(in_features=120, out_features=80, bias=True)\n",
              "  (fc5): Linear(in_features=80, out_features=10, bias=True)\n",
              ")"
            ]
          },
          "metadata": {},
          "execution_count": 146
        }
      ]
    },
    {
      "cell_type": "code",
      "source": [
        "model.fc1.bias.data.fill_(0)\n",
        "model.fc1.weight.data.normal_(std=0.01)"
      ],
      "metadata": {
        "colab": {
          "base_uri": "https://localhost:8080/"
        },
        "id": "JJZlddNEmkTh",
        "outputId": "f84f9c07-e9ad-4b43-c7af-6bc97e13b7c1"
      },
      "execution_count": null,
      "outputs": [
        {
          "output_type": "execute_result",
          "data": {
            "text/plain": [
              "tensor([[ 0.0008,  0.0045, -0.0082,  ...,  0.0042,  0.0224, -0.0002],\n",
              "        [ 0.0060,  0.0029, -0.0144,  ..., -0.0134,  0.0128,  0.0077],\n",
              "        [-0.0048,  0.0221, -0.0107,  ..., -0.0009,  0.0020,  0.0070],\n",
              "        ...,\n",
              "        [-0.0036, -0.0214,  0.0048,  ...,  0.0110, -0.0072, -0.0058],\n",
              "        [-0.0120, -0.0034, -0.0089,  ..., -0.0092,  0.0024, -0.0051],\n",
              "        [-0.0028, -0.0005, -0.0078,  ...,  0.0029, -0.0031, -0.0080]])"
            ]
          },
          "metadata": {},
          "execution_count": 147
        }
      ]
    },
    {
      "cell_type": "code",
      "source": [
        "criterion=nn.CrossEntropyLoss()\n",
        "optimizer=optim.Adam(model.parameters(),lr=0.0004)"
      ],
      "metadata": {
        "id": "UEuwbQaPmtJR"
      },
      "execution_count": null,
      "outputs": []
    },
    {
      "cell_type": "code",
      "source": [
        "images.shape"
      ],
      "metadata": {
        "colab": {
          "base_uri": "https://localhost:8080/"
        },
        "id": "2IP3woBopCF8",
        "outputId": "af2cb03d-59c7-4eb2-8758-d9e1c087aed5"
      },
      "execution_count": null,
      "outputs": [
        {
          "output_type": "execute_result",
          "data": {
            "text/plain": [
              "torch.Size([64, 1, 28, 28])"
            ]
          },
          "metadata": {},
          "execution_count": 149
        }
      ]
    },
    {
      "cell_type": "code",
      "source": [
        "def validation(model,testloader,criterion):\n",
        "  test_loss=0\n",
        "  test_accuracy=0\n",
        "  accuracy=0\n",
        "  for images,labels in testloader:\n",
        "    images.resize_(images.shape[0],784)\n",
        "    output=model(images)\n",
        "    test_loss+=criterion(output,labels).item()\n",
        "    ps=torch.exp(output)\n",
        "    equality=(labels.data==ps.max(dim=1)[1])\n",
        "    test_accuracy+=equality.type(torch.FloatTensor).mean()\n",
        "  return(test_loss,test_accuracy)"
      ],
      "metadata": {
        "id": "iBbe7ZGJm1IL"
      },
      "execution_count": null,
      "outputs": []
    },
    {
      "cell_type": "code",
      "source": [
        "epochs=5\n",
        "steps=0\n",
        "running_loss=0\n",
        "print_every=40\n",
        "for e in range(epochs):\n",
        "  model.train()\n",
        "  for images,labels in trainloader:\n",
        "    steps+=1\n",
        "    images.resize_(images.size()[0],784)\n",
        "    optimizer.zero_grad()\n",
        "    output=model.forward(images)\n",
        "    loss=criterion(output,labels)\n",
        "    loss.backward()\n",
        "    optimizer.step()\n",
        "    running_loss+=loss.item()\n",
        "\n",
        "    if steps % print_every==0:\n",
        "      model.eval()\n",
        "\n",
        "      test_loss,test_accuracy=validation(model,testloader,criterion)\n",
        "      print(\"Epoch: {}/{}\".format(e+1,epochs),\n",
        "            \"Training loss: {:.3f}..\".format(running_loss/print_every),\n",
        "            \"Test Loss: {:.3f}\".format(test_loss/len(testloader)),\n",
        "            \"Test Accuracy: {:.3f}\".format(test_accuracy/len(testloader)))\n",
        "      running_loss=0\n",
        "      model.train()"
      ],
      "metadata": {
        "colab": {
          "base_uri": "https://localhost:8080/"
        },
        "id": "pbbxEaF6m2AG",
        "outputId": "03bd38d9-78fa-45a9-a0a9-f313177a4765"
      },
      "execution_count": null,
      "outputs": [
        {
          "output_type": "stream",
          "name": "stdout",
          "text": [
            "Epoch: 1/5 Training loss: 2.233.. Test Loss: 2.100 Test Accuracy: 0.387\n",
            "Epoch: 1/5 Training loss: 1.964.. Test Loss: 1.875 Test Accuracy: 0.591\n",
            "Epoch: 1/5 Training loss: 1.821.. Test Loss: 1.775 Test Accuracy: 0.710\n",
            "Epoch: 1/5 Training loss: 1.757.. Test Loss: 1.753 Test Accuracy: 0.720\n",
            "Epoch: 1/5 Training loss: 1.750.. Test Loss: 1.734 Test Accuracy: 0.734\n",
            "Epoch: 1/5 Training loss: 1.733.. Test Loss: 1.737 Test Accuracy: 0.728\n",
            "Epoch: 1/5 Training loss: 1.730.. Test Loss: 1.720 Test Accuracy: 0.746\n",
            "Epoch: 1/5 Training loss: 1.702.. Test Loss: 1.712 Test Accuracy: 0.756\n",
            "Epoch: 1/5 Training loss: 1.697.. Test Loss: 1.709 Test Accuracy: 0.756\n",
            "Epoch: 1/5 Training loss: 1.719.. Test Loss: 1.702 Test Accuracy: 0.762\n",
            "Epoch: 1/5 Training loss: 1.698.. Test Loss: 1.723 Test Accuracy: 0.740\n",
            "Epoch: 1/5 Training loss: 1.699.. Test Loss: 1.698 Test Accuracy: 0.764\n",
            "Epoch: 1/5 Training loss: 1.700.. Test Loss: 1.694 Test Accuracy: 0.769\n",
            "Epoch: 1/5 Training loss: 1.681.. Test Loss: 1.694 Test Accuracy: 0.768\n",
            "Epoch: 1/5 Training loss: 1.689.. Test Loss: 1.694 Test Accuracy: 0.769\n",
            "Epoch: 1/5 Training loss: 1.688.. Test Loss: 1.685 Test Accuracy: 0.779\n",
            "Epoch: 1/5 Training loss: 1.678.. Test Loss: 1.685 Test Accuracy: 0.780\n",
            "Epoch: 1/5 Training loss: 1.677.. Test Loss: 1.681 Test Accuracy: 0.785\n",
            "Epoch: 1/5 Training loss: 1.683.. Test Loss: 1.670 Test Accuracy: 0.792\n",
            "Epoch: 1/5 Training loss: 1.665.. Test Loss: 1.676 Test Accuracy: 0.788\n",
            "Epoch: 1/5 Training loss: 1.677.. Test Loss: 1.679 Test Accuracy: 0.782\n",
            "Epoch: 1/5 Training loss: 1.668.. Test Loss: 1.682 Test Accuracy: 0.781\n",
            "Epoch: 1/5 Training loss: 1.648.. Test Loss: 1.663 Test Accuracy: 0.800\n",
            "Epoch: 2/5 Training loss: 1.674.. Test Loss: 1.659 Test Accuracy: 0.805\n",
            "Epoch: 2/5 Training loss: 1.659.. Test Loss: 1.664 Test Accuracy: 0.801\n",
            "Epoch: 2/5 Training loss: 1.643.. Test Loss: 1.658 Test Accuracy: 0.805\n",
            "Epoch: 2/5 Training loss: 1.646.. Test Loss: 1.662 Test Accuracy: 0.800\n",
            "Epoch: 2/5 Training loss: 1.661.. Test Loss: 1.672 Test Accuracy: 0.790\n",
            "Epoch: 2/5 Training loss: 1.655.. Test Loss: 1.660 Test Accuracy: 0.802\n",
            "Epoch: 2/5 Training loss: 1.651.. Test Loss: 1.651 Test Accuracy: 0.810\n",
            "Epoch: 2/5 Training loss: 1.649.. Test Loss: 1.652 Test Accuracy: 0.810\n",
            "Epoch: 2/5 Training loss: 1.652.. Test Loss: 1.647 Test Accuracy: 0.816\n",
            "Epoch: 2/5 Training loss: 1.651.. Test Loss: 1.650 Test Accuracy: 0.812\n",
            "Epoch: 2/5 Training loss: 1.651.. Test Loss: 1.697 Test Accuracy: 0.766\n",
            "Epoch: 2/5 Training loss: 1.658.. Test Loss: 1.657 Test Accuracy: 0.806\n",
            "Epoch: 2/5 Training loss: 1.636.. Test Loss: 1.660 Test Accuracy: 0.802\n",
            "Epoch: 2/5 Training loss: 1.661.. Test Loss: 1.653 Test Accuracy: 0.809\n",
            "Epoch: 2/5 Training loss: 1.657.. Test Loss: 1.652 Test Accuracy: 0.808\n",
            "Epoch: 2/5 Training loss: 1.660.. Test Loss: 1.654 Test Accuracy: 0.807\n",
            "Epoch: 2/5 Training loss: 1.639.. Test Loss: 1.664 Test Accuracy: 0.799\n",
            "Epoch: 2/5 Training loss: 1.641.. Test Loss: 1.646 Test Accuracy: 0.814\n",
            "Epoch: 2/5 Training loss: 1.648.. Test Loss: 1.647 Test Accuracy: 0.815\n",
            "Epoch: 2/5 Training loss: 1.649.. Test Loss: 1.647 Test Accuracy: 0.815\n",
            "Epoch: 2/5 Training loss: 1.635.. Test Loss: 1.653 Test Accuracy: 0.808\n",
            "Epoch: 2/5 Training loss: 1.641.. Test Loss: 1.655 Test Accuracy: 0.806\n",
            "Epoch: 2/5 Training loss: 1.648.. Test Loss: 1.660 Test Accuracy: 0.802\n",
            "Epoch: 3/5 Training loss: 1.641.. Test Loss: 1.649 Test Accuracy: 0.813\n",
            "Epoch: 3/5 Training loss: 1.625.. Test Loss: 1.643 Test Accuracy: 0.817\n",
            "Epoch: 3/5 Training loss: 1.643.. Test Loss: 1.652 Test Accuracy: 0.810\n",
            "Epoch: 3/5 Training loss: 1.627.. Test Loss: 1.671 Test Accuracy: 0.791\n",
            "Epoch: 3/5 Training loss: 1.634.. Test Loss: 1.651 Test Accuracy: 0.810\n",
            "Epoch: 3/5 Training loss: 1.632.. Test Loss: 1.645 Test Accuracy: 0.817\n",
            "Epoch: 3/5 Training loss: 1.651.. Test Loss: 1.644 Test Accuracy: 0.818\n",
            "Epoch: 3/5 Training loss: 1.630.. Test Loss: 1.646 Test Accuracy: 0.815\n",
            "Epoch: 3/5 Training loss: 1.637.. Test Loss: 1.637 Test Accuracy: 0.825\n",
            "Epoch: 3/5 Training loss: 1.630.. Test Loss: 1.658 Test Accuracy: 0.803\n",
            "Epoch: 3/5 Training loss: 1.636.. Test Loss: 1.644 Test Accuracy: 0.816\n",
            "Epoch: 3/5 Training loss: 1.620.. Test Loss: 1.640 Test Accuracy: 0.821\n",
            "Epoch: 3/5 Training loss: 1.629.. Test Loss: 1.640 Test Accuracy: 0.821\n",
            "Epoch: 3/5 Training loss: 1.629.. Test Loss: 1.637 Test Accuracy: 0.824\n",
            "Epoch: 3/5 Training loss: 1.620.. Test Loss: 1.654 Test Accuracy: 0.807\n",
            "Epoch: 3/5 Training loss: 1.630.. Test Loss: 1.631 Test Accuracy: 0.830\n",
            "Epoch: 3/5 Training loss: 1.620.. Test Loss: 1.640 Test Accuracy: 0.821\n",
            "Epoch: 3/5 Training loss: 1.633.. Test Loss: 1.644 Test Accuracy: 0.816\n",
            "Epoch: 3/5 Training loss: 1.616.. Test Loss: 1.634 Test Accuracy: 0.826\n",
            "Epoch: 3/5 Training loss: 1.627.. Test Loss: 1.635 Test Accuracy: 0.825\n",
            "Epoch: 3/5 Training loss: 1.631.. Test Loss: 1.636 Test Accuracy: 0.826\n",
            "Epoch: 3/5 Training loss: 1.627.. Test Loss: 1.633 Test Accuracy: 0.829\n",
            "Epoch: 3/5 Training loss: 1.622.. Test Loss: 1.641 Test Accuracy: 0.819\n",
            "Epoch: 3/5 Training loss: 1.633.. Test Loss: 1.640 Test Accuracy: 0.822\n",
            "Epoch: 4/5 Training loss: 1.636.. Test Loss: 1.636 Test Accuracy: 0.825\n",
            "Epoch: 4/5 Training loss: 1.630.. Test Loss: 1.636 Test Accuracy: 0.824\n",
            "Epoch: 4/5 Training loss: 1.633.. Test Loss: 1.642 Test Accuracy: 0.820\n",
            "Epoch: 4/5 Training loss: 1.612.. Test Loss: 1.633 Test Accuracy: 0.830\n",
            "Epoch: 4/5 Training loss: 1.614.. Test Loss: 1.627 Test Accuracy: 0.833\n",
            "Epoch: 4/5 Training loss: 1.631.. Test Loss: 1.628 Test Accuracy: 0.834\n",
            "Epoch: 4/5 Training loss: 1.618.. Test Loss: 1.632 Test Accuracy: 0.830\n",
            "Epoch: 4/5 Training loss: 1.619.. Test Loss: 1.627 Test Accuracy: 0.835\n",
            "Epoch: 4/5 Training loss: 1.616.. Test Loss: 1.635 Test Accuracy: 0.828\n",
            "Epoch: 4/5 Training loss: 1.613.. Test Loss: 1.634 Test Accuracy: 0.827\n",
            "Epoch: 4/5 Training loss: 1.607.. Test Loss: 1.628 Test Accuracy: 0.832\n",
            "Epoch: 4/5 Training loss: 1.624.. Test Loss: 1.641 Test Accuracy: 0.820\n",
            "Epoch: 4/5 Training loss: 1.633.. Test Loss: 1.627 Test Accuracy: 0.834\n",
            "Epoch: 4/5 Training loss: 1.627.. Test Loss: 1.648 Test Accuracy: 0.811\n",
            "Epoch: 4/5 Training loss: 1.638.. Test Loss: 1.658 Test Accuracy: 0.803\n",
            "Epoch: 4/5 Training loss: 1.621.. Test Loss: 1.635 Test Accuracy: 0.825\n",
            "Epoch: 4/5 Training loss: 1.632.. Test Loss: 1.633 Test Accuracy: 0.826\n",
            "Epoch: 4/5 Training loss: 1.624.. Test Loss: 1.636 Test Accuracy: 0.824\n",
            "Epoch: 4/5 Training loss: 1.607.. Test Loss: 1.623 Test Accuracy: 0.837\n",
            "Epoch: 4/5 Training loss: 1.604.. Test Loss: 1.633 Test Accuracy: 0.827\n",
            "Epoch: 4/5 Training loss: 1.607.. Test Loss: 1.635 Test Accuracy: 0.826\n",
            "Epoch: 4/5 Training loss: 1.631.. Test Loss: 1.622 Test Accuracy: 0.840\n",
            "Epoch: 4/5 Training loss: 1.609.. Test Loss: 1.636 Test Accuracy: 0.826\n",
            "Epoch: 5/5 Training loss: 1.620.. Test Loss: 1.628 Test Accuracy: 0.833\n",
            "Epoch: 5/5 Training loss: 1.616.. Test Loss: 1.626 Test Accuracy: 0.836\n",
            "Epoch: 5/5 Training loss: 1.612.. Test Loss: 1.630 Test Accuracy: 0.831\n",
            "Epoch: 5/5 Training loss: 1.611.. Test Loss: 1.631 Test Accuracy: 0.828\n",
            "Epoch: 5/5 Training loss: 1.618.. Test Loss: 1.622 Test Accuracy: 0.838\n",
            "Epoch: 5/5 Training loss: 1.602.. Test Loss: 1.618 Test Accuracy: 0.843\n",
            "Epoch: 5/5 Training loss: 1.615.. Test Loss: 1.623 Test Accuracy: 0.838\n",
            "Epoch: 5/5 Training loss: 1.624.. Test Loss: 1.622 Test Accuracy: 0.839\n",
            "Epoch: 5/5 Training loss: 1.629.. Test Loss: 1.631 Test Accuracy: 0.830\n",
            "Epoch: 5/5 Training loss: 1.606.. Test Loss: 1.633 Test Accuracy: 0.828\n",
            "Epoch: 5/5 Training loss: 1.620.. Test Loss: 1.624 Test Accuracy: 0.837\n",
            "Epoch: 5/5 Training loss: 1.613.. Test Loss: 1.619 Test Accuracy: 0.843\n",
            "Epoch: 5/5 Training loss: 1.617.. Test Loss: 1.626 Test Accuracy: 0.833\n",
            "Epoch: 5/5 Training loss: 1.605.. Test Loss: 1.625 Test Accuracy: 0.835\n",
            "Epoch: 5/5 Training loss: 1.615.. Test Loss: 1.628 Test Accuracy: 0.834\n",
            "Epoch: 5/5 Training loss: 1.614.. Test Loss: 1.633 Test Accuracy: 0.827\n",
            "Epoch: 5/5 Training loss: 1.615.. Test Loss: 1.619 Test Accuracy: 0.842\n",
            "Epoch: 5/5 Training loss: 1.606.. Test Loss: 1.626 Test Accuracy: 0.834\n",
            "Epoch: 5/5 Training loss: 1.615.. Test Loss: 1.620 Test Accuracy: 0.841\n",
            "Epoch: 5/5 Training loss: 1.616.. Test Loss: 1.630 Test Accuracy: 0.832\n",
            "Epoch: 5/5 Training loss: 1.622.. Test Loss: 1.620 Test Accuracy: 0.840\n",
            "Epoch: 5/5 Training loss: 1.601.. Test Loss: 1.623 Test Accuracy: 0.837\n",
            "Epoch: 5/5 Training loss: 1.601.. Test Loss: 1.625 Test Accuracy: 0.837\n",
            "Epoch: 5/5 Training loss: 1.610.. Test Loss: 1.629 Test Accuracy: 0.831\n"
          ]
        }
      ]
    },
    {
      "cell_type": "code",
      "source": [
        "model.eval()\n",
        "dataiter=iter(testloader)\n",
        "images,labels=dataiter.next()\n",
        "img=images[0,0,:]\n",
        "img=img.view(1,784)\n",
        "with torch.no_grad():\n",
        "  output=model.forward(img)\n",
        "ps=torch.exp(output)\n",
        "print(np.argmax(ps.numpy()),labels[0])\n",
        "plt.imshow(images[0].numpy().squeeze())"
      ],
      "metadata": {
        "colab": {
          "base_uri": "https://localhost:8080/",
          "height": 300
        },
        "id": "5XzK_a-cnAMR",
        "outputId": "4498092b-752f-4fe3-8d38-3457f0706a47"
      },
      "execution_count": null,
      "outputs": [
        {
          "output_type": "stream",
          "name": "stdout",
          "text": [
            "7 tensor(7)\n"
          ]
        },
        {
          "output_type": "execute_result",
          "data": {
            "text/plain": [
              "<matplotlib.image.AxesImage at 0x7fb119779a50>"
            ]
          },
          "metadata": {},
          "execution_count": 153
        },
        {
          "output_type": "display_data",
          "data": {
            "text/plain": [
              "<Figure size 432x288 with 1 Axes>"
            ],
            "image/png": "[encoded data removed]"
          },
          "metadata": {
            "image/png": {
              "width": 251,
              "height": 248
            },
            "needs_background": "light"
          }
        }
      ]
    },
    {
      "cell_type": "code",
      "source": [
        ""
      ],
      "metadata": {
        "id": "HPwtmc8OXrJ_"
      },
      "execution_count": null,
      "outputs": []
    }
  ]
}